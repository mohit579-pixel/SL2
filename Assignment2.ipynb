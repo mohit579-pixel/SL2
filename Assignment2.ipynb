{
  "nbformat": 4,
  "nbformat_minor": 0,
  "metadata": {
    "colab": {
      "provenance": [],
      "authorship_tag": "ABX9TyMGD2izkzmIBQ/DY4eMECMl",
      "include_colab_link": true
    },
    "kernelspec": {
      "name": "python3",
      "display_name": "Python 3"
    },
    "language_info": {
      "name": "python"
    }
  },
  "cells": [
    {
      "cell_type": "markdown",
      "metadata": {
        "id": "view-in-github",
        "colab_type": "text"
      },
      "source": [
        "<a href=\"https://colab.research.google.com/github/mohit579-pixel/SL2/blob/main/Assignment2.ipynb\" target=\"_parent\"><img src=\"https://colab.research.google.com/assets/colab-badge.svg\" alt=\"Open In Colab\"/></a>"
      ]
    },
    {
      "cell_type": "code",
      "execution_count": 2,
      "metadata": {
        "colab": {
          "base_uri": "https://localhost:8080/"
        },
        "id": "0PFh8khkVSH9",
        "outputId": "065e45f2-bc00-4456-a299-276e5df98df2"
      },
      "outputs": [
        {
          "output_type": "stream",
          "name": "stdout",
          "text": [
            "ANDNOT Function Test:\n",
            "Input: (0, 0), Output: 0, Expected: 0\n",
            "Input: (0, 1), Output: 0, Expected: 0\n",
            "Input: (1, 0), Output: 1, Expected: 1\n",
            "Input: (1, 1), Output: 0, Expected: 0\n"
          ]
        }
      ],
      "source": [
        "import numpy as np\n",
        "class McCullochPittsNeuron:\n",
        "    def __init__(self, weights, threshold):\n",
        "        self.weights = weights\n",
        "        self.threshold = threshold\n",
        "\n",
        "    def activate(self, inputs):\n",
        "        weighted_sum = np.dot(self.weights, inputs)\n",
        "        if weighted_sum >= self.threshold:\n",
        "            return 1\n",
        "        else:\n",
        "            return 0\n",
        "\n",
        "# Define ANDNOT function inputs and outputs\n",
        "ANDNOT_inputs = [(0, 0), (0, 1), (1, 0), (1, 1)]\n",
        "ANDNOT_outputs = [0, 0, 1, 0]\n",
        "\n",
        "# Initialize weights and threshold for ANDNOT neuron\n",
        "weights = [1, -1]  # First input has weight 1, second input has weight -1\n",
        "threshold = 1\n",
        "\n",
        "# Create McCulloch-Pitts neuron for ANDNOT function\n",
        "ANDNOT_neuron = McCullochPittsNeuron(weights, threshold)\n",
        "\n",
        "# Test the ANDNOT function\n",
        "print(\"ANDNOT Function Test:\")\n",
        "for inputs, output in zip(ANDNOT_inputs, ANDNOT_outputs):\n",
        "    result = ANDNOT_neuron.activate(inputs)\n",
        "    print(f\"Input: {inputs}, Output: {result}, Expected: {output}\")\n"
      ]
    }
  ]
}