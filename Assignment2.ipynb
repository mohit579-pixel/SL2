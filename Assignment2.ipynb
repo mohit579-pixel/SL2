{
 "cells": [
  {
   "cell_type": "code",
   "execution_count": 2,
   "id": "7f28c4c9",
   "metadata": {},
   "outputs": [],
   "source": [
    "import numpy as np"
   ]
  },
  {
   "cell_type": "code",
   "execution_count": 6,
   "id": "e356a549",
   "metadata": {},
   "outputs": [],
   "source": [
    "class Perceptron:\n",
    "    def __init__(self,weights,threshold):\n",
    "        self.weights=weights\n",
    "        self.threshold=threshold\n",
    "    def activate(self,input):\n",
    "        output=np.dot(input,weights)\n",
    "        if output>=threshold:\n",
    "            return 1\n",
    "        else:\n",
    "            return 0"
   ]
  },
  {
   "cell_type": "code",
   "execution_count": 7,
   "id": "3b1c1525",
   "metadata": {},
   "outputs": [
    {
     "name": "stdout",
     "output_type": "stream",
     "text": [
      "0\n",
      "0\n",
      "1\n",
      "0\n"
     ]
    }
   ],
   "source": [
    "ANDNOT_input=[\n",
    "    (0,0),\n",
    "    (0,1),\n",
    "    (1,0),\n",
    "    (1,1)\n",
    "]\n",
    "\n",
    "ANDNOT_output=[0,0,1,0]\n",
    "weights=[1,-1]\n",
    "threshold=1\n",
    "percetron=Perceptron(weights,threshold)\n",
    "for inputs ,output in zip(ANDNOT_input,ANDNOT_output):\n",
    "    output=percetron.activate(inputs)\n",
    "    print(output)"
   ]
  }
 ],
 "metadata": {
  "kernelspec": {
   "display_name": "Python 3 (ipykernel)",
   "language": "python",
   "name": "python3"
  },
  "language_info": {
   "codemirror_mode": {
    "name": "ipython",
    "version": 3
   },
   "file_extension": ".py",
   "mimetype": "text/x-python",
   "name": "python",
   "nbconvert_exporter": "python",
   "pygments_lexer": "ipython3",
   "version": "3.9.13"
  }
 },
 "nbformat": 4,
 "nbformat_minor": 5
}
