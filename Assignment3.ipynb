{
 "cells": [
  {
   "cell_type": "code",
   "execution_count": 21,
   "id": "6ebe428c",
   "metadata": {},
   "outputs": [],
   "source": [
    "import numpy as np"
   ]
  },
  {
   "cell_type": "code",
   "execution_count": 25,
   "id": "f2f8c7e2",
   "metadata": {},
   "outputs": [
    {
     "name": "stdout",
     "output_type": "stream",
     "text": [
      "2 is Even\n",
      "7 is Odd\n",
      "4 is Even\n",
      "9 is Odd\n",
      "1 is Odd\n"
     ]
    }
   ],
   "source": [
    "class Perceptron:\n",
    "    def __init__(self,input_size):\n",
    "        self.weights=np.random.randn(input_size)\n",
    "        self.bias=np.random.randn()\n",
    "    def predict(self,inputs):\n",
    "        output=np.dot(inputs,self.weights)\n",
    "        return 1 if output>0 else 0\n",
    "def convert_to_ascii(numbers):\n",
    "    binary_form =format(numbers,'08b')\n",
    "    return [int(bit) for bit in binary_form]\n",
    "def train_perceptron():\n",
    "    inputs=[\n",
    "        (0,0),\n",
    "        (1,1),\n",
    "        (2,0),\n",
    "        (3,1),\n",
    "        (4,0),\n",
    "        (5,1),\n",
    "        (6,0),\n",
    "        (7,1),\n",
    "        (8,0),\n",
    "        (9,1)\n",
    "    ]\n",
    "    perceptron=Perceptron(8)\n",
    "    lr=0.1\n",
    "    epoch=5\n",
    "    for i in range(epoch):\n",
    "        for values,label in inputs:\n",
    "            binary_convert=convert_to_ascii(values)\n",
    "            outputs=perceptron.predict(binary_convert)\n",
    "            \n",
    "            error=label-outputs\n",
    "            perceptron.weights+=error*lr*np.array(binary_convert)\n",
    "            perceptron.bias+=error*lr\n",
    "    return perceptron\n",
    "def main():\n",
    "    # Assuming train_perceptron() and convert_to_ascii() are defined elsewhere\n",
    "    test_numbers = [2, 7, 4, 9, 1]\n",
    "    perceptron = train_perceptron()\n",
    "    \n",
    "    for value in test_numbers:\n",
    "        binary_ascii = convert_to_ascii(value)\n",
    "        output = perceptron.predict(binary_ascii)\n",
    "        if output == 0:\n",
    "            print(\"{} is Even\".format(value))\n",
    "        else:\n",
    "            print(\"{} is Odd\".format(value))\n",
    "\n",
    "# Call the main function if this script is executed\n",
    "if __name__ == \"__main__\":\n",
    "    main()\n",
    "\n",
    "        "
   ]
  },
  {
   "cell_type": "code",
   "execution_count": 23,
   "id": "42a09282",
   "metadata": {},
   "outputs": [],
   "source": []
  },
  {
   "cell_type": "code",
   "execution_count": 24,
   "id": "1e7ea54f",
   "metadata": {},
   "outputs": [
    {
     "name": "stdout",
     "output_type": "stream",
     "text": [
      "2 is Even\n",
      "7 is Odd\n",
      "4 is Even\n",
      "9 is Odd\n",
      "1 is Odd\n"
     ]
    }
   ],
   "source": []
  },
  {
   "cell_type": "code",
   "execution_count": null,
   "id": "883c877f",
   "metadata": {},
   "outputs": [],
   "source": []
  },
  {
   "cell_type": "code",
   "execution_count": null,
   "id": "4bead894",
   "metadata": {},
   "outputs": [],
   "source": []
  }
 ],
 "metadata": {
  "kernelspec": {
   "display_name": "Python 3 (ipykernel)",
   "language": "python",
   "name": "python3"
  },
  "language_info": {
   "codemirror_mode": {
    "name": "ipython",
    "version": 3
   },
   "file_extension": ".py",
   "mimetype": "text/x-python",
   "name": "python",
   "nbconvert_exporter": "python",
   "pygments_lexer": "ipython3",
   "version": "3.9.13"
  }
 },
 "nbformat": 4,
 "nbformat_minor": 5
}
