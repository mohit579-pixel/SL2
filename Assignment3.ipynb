{
  "nbformat": 4,
  "nbformat_minor": 0,
  "metadata": {
    "colab": {
      "provenance": [],
      "authorship_tag": "ABX9TyODu/CcQ//HTwBObr6NFcD6",
      "include_colab_link": true
    },
    "kernelspec": {
      "name": "python3",
      "display_name": "Python 3"
    },
    "language_info": {
      "name": "python"
    }
  },
  "cells": [
    {
      "cell_type": "markdown",
      "metadata": {
        "id": "view-in-github",
        "colab_type": "text"
      },
      "source": [
        "<a href=\"https://colab.research.google.com/github/mohit579-pixel/SL2/blob/main/Assignment3.ipynb\" target=\"_parent\"><img src=\"https://colab.research.google.com/assets/colab-badge.svg\" alt=\"Open In Colab\"/></a>"
      ]
    },
    {
      "cell_type": "code",
      "execution_count": null,
      "metadata": {
        "colab": {
          "base_uri": "https://localhost:8080/"
        },
        "id": "PK-u-6VSQQZv",
        "outputId": "68721e58-8aa3-44d2-eb8c-c919a604d3dc"
      },
      "outputs": [
        {
          "output_type": "stream",
          "name": "stdout",
          "text": [
            "Number: 2, Prediction: Even\n",
            "Number: 7, Prediction: Odd\n",
            "Number: 4, Prediction: Even\n",
            "Number: 9, Prediction: Odd\n",
            "Number: 1, Prediction: Odd\n"
          ]
        }
      ],
      "source": [
        "import numpy as np\n",
        "\n",
        "class Perceptron:\n",
        "    def __init__(self, input_size):\n",
        "        self.weights = np.random.rand(input_size)\n",
        "        self.bias = np.random.rand()\n",
        "\n",
        "    def predict(self, inputs):\n",
        "        summation = np.dot(inputs, self.weights) + self.bias\n",
        "        return 1 if summation > 0 else 0\n",
        "\n",
        "def convert_to_binary_ascii(number):\n",
        "    binary_ascii = format(number, '08b')  # Convert number to 8-bit binary ASCII\n",
        "    return [int(bit) for bit in binary_ascii]\n",
        "\n",
        "def train_perceptron():\n",
        "    training_data = [\n",
        "        (0, 0),  # '0'\n",
        "        (1, 1),  # '1'\n",
        "        (2, 0),  # '2'\n",
        "        (3, 1),  # '3'\n",
        "        (4, 0),  # '4'\n",
        "        (5, 1),  # '5'\n",
        "        (6, 0),  # '6'\n",
        "        (7, 1),  # '7'\n",
        "        (8, 0),  # '8'\n",
        "        (9, 1),  # '9'\n",
        "    ]\n",
        "\n",
        "    perceptron = Perceptron(input_size=8)\n",
        "\n",
        "    epochs = 5\n",
        "    learning_rate = 0.1\n",
        "\n",
        "    for epoch in range(epochs):\n",
        "        for number, label in training_data:\n",
        "            binary_ascii = convert_to_binary_ascii(number)\n",
        "            prediction = perceptron.predict(binary_ascii)\n",
        "            error = label - prediction\n",
        "\n",
        "            perceptron.weights += learning_rate * error * np.array(binary_ascii)\n",
        "            perceptron.bias += learning_rate * error\n",
        "\n",
        "    return perceptron\n",
        "\n",
        "def main():\n",
        "    perceptron = train_perceptron()\n",
        "\n",
        "    test_numbers = [2, 7, 4, 9, 1]\n",
        "\n",
        "    for number in test_numbers:\n",
        "        binary_ascii = convert_to_binary_ascii(number)\n",
        "        prediction = perceptron.predict(binary_ascii)\n",
        "\n",
        "        print(f\"Number: {number}, Prediction: {'Even' if prediction == 0 else 'Odd'}\")\n",
        "\n",
        "if __name__ == \"__main__\":\n",
        "    main()\n"
      ]
    }
  ]
}