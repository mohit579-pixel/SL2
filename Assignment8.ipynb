{
  "cells": [
    {
      "cell_type": "markdown",
      "metadata": {
        "id": "view-in-github",
        "colab_type": "text"
      },
      "source": [
        "<a href=\"https://colab.research.google.com/github/mohit579-pixel/SL2/blob/main/Assignment8.ipynb\" target=\"_parent\"><img src=\"https://colab.research.google.com/assets/colab-badge.svg\" alt=\"Open In Colab\"/></a>"
      ]
    },
    {
      "source": [
        "import numpy as np\n",
        "\n",
        "# Define sigmoid activation function\n",
        "def sigmoid(x):\n",
        "    return 1 / (1 + np.exp(-x))\n",
        "\n",
        "# Define derivative of sigmoid function\n",
        "def sigmoid_derivative(x):\n",
        "    return x * (1 - x)\n",
        "\n",
        "# Define input dataset\n",
        "X = np.array([[0,0], [0,1], [1,0], [1,1]])\n",
        "\n",
        "# Define output dataset\n",
        "y = np.array([[0], [1], [1], [0]])\n",
        "\n",
        "# Define hyperparameters\n",
        "learning_rate = 0.5\n",
        "num_epochs = 100000\n",
        "\n",
        "# Initialize weights randomly with mean 0\n",
        "hidden_weights = 2*np.random.random((2,2)) - 1\n",
        "output_weights = 2*np.random.random((2,1)) - 1\n",
        "\n",
        "# Train the neural network\n",
        "for i in range(num_epochs):\n",
        "\n",
        "    # Forward propagation\n",
        "    hidden_layer = sigmoid(np.dot(X, hidden_weights))\n",
        "    output_layer = sigmoid(np.dot(hidden_layer, output_weights))\n",
        "\n",
        "    # Backpropagation\n",
        "    output_error = y - output_layer\n",
        "    output_delta = output_error * sigmoid_derivative(output_layer)\n",
        "\n",
        "    hidden_error = output_delta.dot(output_weights.T)\n",
        "    hidden_delta = hidden_error * sigmoid_derivative(hidden_layer)\n",
        "\n",
        "    output_weights += hidden_layer.T.dot(output_delta) * learning_rate\n",
        "    hidden_weights += X.T.dot(hidden_delta) * learning_rate\n",
        "\n",
        "# Display input and output\n",
        "print(\"Input:\")\n",
        "print(X)\n",
        "print(\"Output:\")\n",
        "print(output_layer)\n",
        "\n",
        "\n"
      ],
      "cell_type": "code",
      "metadata": {
        "colab": {
          "base_uri": "https://localhost:8080/"
        },
        "id": "VetQLSz5p14o",
        "outputId": "08f99cc5-1be6-4647-e03f-1314df23cd6e"
      },
      "execution_count": 18,
      "outputs": [
        {
          "output_type": "stream",
          "name": "stdout",
          "text": [
            "Input:\n",
            "[[0 0]\n",
            " [0 1]\n",
            " [1 0]\n",
            " [1 1]]\n",
            "Output:\n",
            "[[0.02482477]\n",
            " [0.89771859]\n",
            " [0.89771843]\n",
            " [0.5361139 ]]\n"
          ]
        }
      ]
    }
  ],
  "metadata": {
    "kernelspec": {
      "display_name": "Python 3",
      "language": "python",
      "name": "python3"
    },
    "language_info": {
      "codemirror_mode": {
        "name": "ipython",
        "version": 3
      },
      "file_extension": ".py",
      "mimetype": "text/x-python",
      "name": "python",
      "nbconvert_exporter": "python",
      "pygments_lexer": "ipython3",
      "version": "3.10.11"
    },
    "colab": {
      "provenance": [],
      "include_colab_link": true
    }
  },
  "nbformat": 4,
  "nbformat_minor": 0
}