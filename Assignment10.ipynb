{
 "cells": [
  {
   "cell_type": "code",
   "execution_count": 2,
   "id": "4fe5f87c",
   "metadata": {},
   "outputs": [
    {
     "name": "stdout",
     "output_type": "stream",
     "text": [
      "[[ 0. -4.  0.  0.]\n",
      " [-4.  0.  0.  0.]\n",
      " [ 0.  0.  0. -4.]\n",
      " [ 0.  0. -4.  0.]]\n",
      "Input vector:\n",
      "[ 1  1 -1 -1]\n",
      "Output vector:\n",
      "[-1 -1  1  1]\n"
     ]
    }
   ],
   "source": [
    "#Assignments: 9\n",
    "#Write a python program to design a Hopfield Network which stores 4 vectors\n",
    "\n",
    "import numpy as np\n",
    "# Define the 4 vectors to be stored\n",
    "vectors = np.array([[1, 1, -1, -1],\n",
    "                    [-1, -1, 1, 1],\n",
    "                    [1, -1, 1, -1],\n",
    "                    [-1, 1, -1, 1]])\n",
    "\n",
    "# Calculate the weight matrix\n",
    "weights = np.zeros((4, 4))\n",
    "for i in range(4):\n",
    "    for j in range(4):\n",
    "        if i == j:\n",
    "            weights[i, j] = 0\n",
    "        else:\n",
    "            weights[i, j] = np.sum(vectors[i] * vectors[j])\n",
    "\n",
    "# Define the activation function (in this case, a sign function)\n",
    "print(weights)\n",
    "def activation(x):\n",
    "    return np.where(x >= 0, 1, -1)\n",
    "\n",
    "# Define the Hopfield network function\n",
    "def hopfield(input_vector, weights):\n",
    "    output_vector = activation(np.dot(weights, input_vector))\n",
    "    return output_vector\n",
    "\n",
    "# Test the Hopfield network with one of the stored vectors as input\n",
    "input_vector = vectors[0]\n",
    "output_vector = hopfield(input_vector, weights)\n",
    "print(\"Input vector:\")\n",
    "print(input_vector)\n",
    "print(\"Output vector:\")\n",
    "print(output_vector)"
   ]
  }
 ],
 "metadata": {
  "kernelspec": {
   "display_name": "Python 3 (ipykernel)",
   "language": "python",
   "name": "python3"
  },
  "language_info": {
   "codemirror_mode": {
    "name": "ipython",
    "version": 3
   },
   "file_extension": ".py",
   "mimetype": "text/x-python",
   "name": "python",
   "nbconvert_exporter": "python",
   "pygments_lexer": "ipython3",
   "version": "3.9.13"
  }
 },
 "nbformat": 4,
 "nbformat_minor": 5
}
