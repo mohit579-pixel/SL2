{
  "cells": [
    {
      "cell_type": "markdown",
      "metadata": {
        "id": "view-in-github",
        "colab_type": "text"
      },
      "source": [
        "<a href=\"https://colab.research.google.com/github/mohit579-pixel/SL2/blob/main/Assignment5.ipynb\" target=\"_parent\"><img src=\"https://colab.research.google.com/assets/colab-badge.svg\" alt=\"Open In Colab\"/></a>"
      ]
    },
    {
      "source": [
        "import numpy as np\n",
        "\n",
        "# define two pairs of vectors\n",
        "x1 = np.array([1, 1, 1, -1])\n",
        "y1 = np.array([1, -1])\n",
        "x2 = np.array([-1, -1, 1, 1])\n",
        "y2 = np.array([-1, 1])\n",
        "\n",
        "# compute weight matrix W\n",
        "W = np.outer(y1, x1) + np.outer(y2, x2)\n",
        "\n",
        "# define BAM function\n",
        "def bam(x):\n",
        "    y = np.dot(W, x)\n",
        "    y = np.where(y >= 0, 1, -1)\n",
        "    return y\n",
        "\n",
        "# test BAM with inputs\n",
        "x_test = np.array([1, -1, -1, -1])\n",
        "y_test = bam(x_test)\n",
        "\n",
        "print(\"Input:\", x_test)\n",
        "print(\"Output:\", y_test)"
      ],
      "cell_type": "code",
      "metadata": {
        "colab": {
          "base_uri": "https://localhost:8080/"
        },
        "id": "VetQLSz5p14o",
        "outputId": "823f8d37-00cf-49e3-f768-cd4e12221be0"
      },
      "execution_count": 9,
      "outputs": [
        {
          "output_type": "stream",
          "name": "stdout",
          "text": [
            "Input: [ 1 -1 -1 -1]\n",
            "Output: [ 1 -1]\n"
          ]
        }
      ]
    }
  ],
  "metadata": {
    "kernelspec": {
      "display_name": "Python 3",
      "language": "python",
      "name": "python3"
    },
    "language_info": {
      "codemirror_mode": {
        "name": "ipython",
        "version": 3
      },
      "file_extension": ".py",
      "mimetype": "text/x-python",
      "name": "python",
      "nbconvert_exporter": "python",
      "pygments_lexer": "ipython3",
      "version": "3.10.11"
    },
    "colab": {
      "provenance": [],
      "include_colab_link": true
    }
  },
  "nbformat": 4,
  "nbformat_minor": 0
}