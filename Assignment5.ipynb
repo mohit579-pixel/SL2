{
 "cells": [
  {
   "cell_type": "code",
   "execution_count": 5,
   "id": "b5c9a362",
   "metadata": {},
   "outputs": [
    {
     "name": "stdout",
     "output_type": "stream",
     "text": [
      "Input: [-1 -1  1  1]\n",
      "Output: [-1  1]\n"
     ]
    }
   ],
   "source": [
    "import numpy as np\n",
    "\n",
    "# define two pairs of vectors\n",
    "x1 = np.array([1, 1, 1, -1])\n",
    "y1 = np.array([1, -1])\n",
    "x2 = np.array([-1, -1, 1, 1])\n",
    "y2 = np.array([-1, 1])\n",
    "\n",
    "# compute weight matrix W\n",
    "W = np.outer(y1, x1) + np.outer(y2, x2)\n",
    "\n",
    "# define BAM function\n",
    "def bam(x):\n",
    "    y = np.dot(W, x)\n",
    "    y = np.where(y >= 0, 1, -1)\n",
    "    return y\n",
    "\n",
    "# test BAM with inputs\n",
    "x_test = np.array([-1, -1, 1, 1])\n",
    "y_test = bam(x_test)\n",
    "\n",
    "print(\"Input:\", x_test)\n",
    "print(\"Output:\", y_test)"
   ]
  }
 ],
 "metadata": {
  "kernelspec": {
   "display_name": "Python 3 (ipykernel)",
   "language": "python",
   "name": "python3"
  },
  "language_info": {
   "codemirror_mode": {
    "name": "ipython",
    "version": 3
   },
   "file_extension": ".py",
   "mimetype": "text/x-python",
   "name": "python",
   "nbconvert_exporter": "python",
   "pygments_lexer": "ipython3",
   "version": "3.9.13"
  }
 },
 "nbformat": 4,
 "nbformat_minor": 5
}
